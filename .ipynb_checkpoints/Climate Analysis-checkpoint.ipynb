{
 "cells": [
  {
   "cell_type": "markdown",
   "metadata": {},
   "source": [
    "Step 3 - Climate Analysis and Exploration\n",
    "\n",
    "You are now ready to use Python and SQLAlchemy to do basic climate analysis and data exploration on your new weather station tables. All of the following analysis should be completed using SQLAlchemy ORM queries, Pandas, and Matplotlib.\n",
    "\n",
    "\n",
    "Create a Jupyter Notebook file called climate_analysis.ipynb and use it to complete your climate analysis and data exporation.\n",
    "Choose a start date and end date for your trip. Make sure that your vacation range is approximately 3-15 days total.\n",
    "Use SQLAlchemy create_engine to connect to your sqlite database.\n",
    "Use SQLAlchemy automap_base() to reflect your tables into classes and save a reference to those classes called Station and Measurement."
   ]
  },
  {
   "cell_type": "code",
   "execution_count": null,
   "metadata": {},
   "outputs": [],
   "source": [
    "#imports dependencies\n",
    "import pandas as pd\n",
    "import seaborn\n",
    "seaborn.set()\n",
    "import matplotlib.pyplot as plt\n",
    "from sqlalchemy import create_engine\n",
    "from sqlalchemy.ext.automap import automap_base\n"
   ]
  },
  {
   "cell_type": "code",
   "execution_count": null,
   "metadata": {},
   "outputs": [],
   "source": [
    "#Connect to the database\n",
    "engine=create_engine(\"sqlite:///hawaii.sqlite\")"
   ]
  },
  {
   "cell_type": "code",
   "execution_count": null,
   "metadata": {},
   "outputs": [],
   "source": [
    "#Reading the tables from the database\n",
    "Base=automap_base()\n",
    "Base.prepare(engine, reflect=True)"
   ]
  },
  {
   "cell_type": "code",
   "execution_count": null,
   "metadata": {},
   "outputs": [],
   "source": [
    "#creating a session\n",
    "from sqlalchemy.orm import sessionmaker\n",
    "Session=sessionmaker(bind=engine)\n",
    "session=Session()"
   ]
  },
  {
   "cell_type": "code",
   "execution_count": null,
   "metadata": {},
   "outputs": [],
   "source": [
    "#Reading the tables\n",
    "Station=Base.classes.station\n",
    "Measurement=Base.classes.measurement"
   ]
  },
  {
   "cell_type": "markdown",
   "metadata": {},
   "source": [
    "Precipitation Analysis\n",
    "\n",
    "\n",
    "Design a query to retrieve the last 12 months of precipitation data.\n",
    "Select only the date and prcp values.\n",
    "Load the query results into a Pandas DataFrame and set the index to the date column.\n",
    "Plot the results using the DataFrame plot method.\n",
    "\n",
    "\n"
   ]
  },
  {
   "cell_type": "code",
   "execution_count": null,
   "metadata": {},
   "outputs": [],
   "source": [
    "#Query the database\n",
    "results=engine.execute('SELECT date,prcp FROM measurement').fetchall()\n",
    "results"
   ]
  },
  {
   "cell_type": "code",
   "execution_count": null,
   "metadata": {},
   "outputs": [],
   "source": [
    "prcp_results=session.query(Measurement.date,Measurement.prcp).\\\n",
    "    filter(Measurement.date > '2017-05-03').\\\n",
    "    order_by(Measurement.date).all()"
   ]
  },
  {
   "cell_type": "code",
   "execution_count": null,
   "metadata": {},
   "outputs": [],
   "source": [
    "prcp_df=pd.DataFrame(prcp_results)\n",
    "prcp_df.head()"
   ]
  },
  {
   "cell_type": "code",
   "execution_count": null,
   "metadata": {},
   "outputs": [],
   "source": [
    "new_prcp_df=prcp_df.set_index(\"date\")\n",
    "new_prcp_df.head()"
   ]
  },
  {
   "cell_type": "code",
   "execution_count": null,
   "metadata": {},
   "outputs": [],
   "source": [
    "new_prcp_df.plot()\n",
    "plt.xticks(rotation=45)\n",
    "plt.xlabel(\"date\")\n",
    "plt.legend()\n",
    "plt.show()"
   ]
  },
  {
   "cell_type": "code",
   "execution_count": null,
   "metadata": {},
   "outputs": [],
   "source": [
    "#Summary Statistics of percipation\n",
    "new_prcp_df.describe()"
   ]
  },
  {
   "cell_type": "markdown",
   "metadata": {},
   "source": [
    "Station Analysis\n",
    "\n",
    "\n",
    "Design a query to calculate the total number of stations.\n",
    "\n",
    "Design a query to find the most active stations.\n",
    "\n",
    "\n",
    "List the stations and observation counts in descending order\n",
    "Which station has the highest number of observations?\n",
    "\n",
    "\n",
    "\n",
    "Design a query to retrieve the last 12 months of temperature observation data (tobs).\n",
    "\n",
    "\n",
    "Filter by the station with the highest number of observations.\n",
    "Plot the results as a histogram with bins=12."
   ]
  },
  {
   "cell_type": "code",
   "execution_count": null,
   "metadata": {},
   "outputs": [],
   "source": [
    "from sqlalchemy import func\n",
    "session.query(func.count(Station.station_id)).all()"
   ]
  },
  {
   "cell_type": "code",
   "execution_count": null,
   "metadata": {},
   "outputs": [],
   "source": [
    "#The most active stations\n",
    "station_data=engine.execute(\"\"\"select station,count(measurement_id ) as 'measurement'\n",
    "from measurement\n",
    "group by station\n",
    "order by measurement desc\"\"\").fetchall()\n",
    "station_data"
   ]
  },
  {
   "cell_type": "code",
   "execution_count": null,
   "metadata": {},
   "outputs": [],
   "source": [
    "best_station=station_data[0][0]"
   ]
  },
  {
   "cell_type": "code",
   "execution_count": null,
   "metadata": {},
   "outputs": [],
   "source": [
    "#temperature data for one year for the best station\n",
    "tobs=session.query(Measurement.date,Measurement.tobs).\\\n",
    "    filter(Measurement.date > '2017-05-03').\\\n",
    "    filter(Measurement.station==best_station).\\\n",
    "    order_by(Measurement.date).all()\n",
    "#To show only the first 10 dates\n",
    "tobs[:10]"
   ]
  },
  {
   "cell_type": "code",
   "execution_count": null,
   "metadata": {},
   "outputs": [],
   "source": [
    "tobs_df=pd.DataFrame(tobs)\n",
    "tobs_df.head()"
   ]
  },
  {
   "cell_type": "code",
   "execution_count": null,
   "metadata": {},
   "outputs": [],
   "source": [
    "#plot the histogram\n",
    "tobs_df.hist(\"tobs\", bins=12)\n",
    "plt.xlabel(\"temperature\")\n",
    "plt.ylabel(\"frequency\")\n",
    "plt.show()"
   ]
  },
  {
   "cell_type": "markdown",
   "metadata": {},
   "source": [
    "Temperature Analysis\n",
    "\n",
    "\n",
    "Write a function called calc_temps that will accept a start date and end date in the format %Y-%m-%d and return the minimum, average, and maximum temperatures for that range of dates.\n",
    "Use the calc_temps function to calculate the min, avg, and max temperatures for your trip using the matching dates from the previous year (i.e. use \"2017-01-01\" if your trip start date was \"2018-01-01\")\n",
    "\n",
    "Plot the min, avg, and max temperature from your previous query as a bar chart.\n",
    "\n",
    "\n",
    "Use the average temperature as the bar height.\n",
    "Use the peak-to-peak (tmax-tmin) value as the y error bar (yerr)."
   ]
  },
  {
   "cell_type": "code",
   "execution_count": null,
   "metadata": {},
   "outputs": [],
   "source": [
    "def calc_temps(start, end):\n",
    "    temp=session.query(Measurement.date,Measurement.tobs).\\\n",
    "    filter(Measurement.date >= start).\\\n",
    "    filter(Measurement.date<=end).\\\n",
    "    all()\n",
    "    temp_df=pd.DataFrame(temp)\n",
    "    return temp_df.tobs.min(),temp_df.tobs.mean(),temp_df.tobs.max()\n",
    "\n",
    "     \n",
    "low, mid, hi=calc_temps(\"2017-05-03\", \"2017-05-10\")\n",
    "    "
   ]
  },
  {
   "cell_type": "code",
   "execution_count": null,
   "metadata": {},
   "outputs": [],
   "source": [
    "plt.bar(0,mid,yerr=hi-low)\n",
    "plt.axis([-1,1,0,100])\n",
    "plt.xticks([])\n",
    "plt.ylabel(\"Temp (F)\")\n",
    "plt.title(\"Trip Avg Temp\")\n",
    "plt.show()"
   ]
  },
  {
   "cell_type": "code",
   "execution_count": null,
   "metadata": {},
   "outputs": [],
   "source": []
  }
 ],
 "metadata": {
  "kernelspec": {
   "display_name": "Python 3",
   "language": "python",
   "name": "python3"
  },
  "language_info": {
   "codemirror_mode": {
    "name": "ipython",
    "version": 3
   },
   "file_extension": ".py",
   "mimetype": "text/x-python",
   "name": "python",
   "nbconvert_exporter": "python",
   "pygments_lexer": "ipython3",
   "version": "3.6.4"
  }
 },
 "nbformat": 4,
 "nbformat_minor": 2
}
